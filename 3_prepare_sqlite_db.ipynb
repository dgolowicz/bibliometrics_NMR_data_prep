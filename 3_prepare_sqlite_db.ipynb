{
 "cells": [
  {
   "cell_type": "code",
   "execution_count": null,
   "id": "c9b9baa3-0ff1-4d22-b3ce-7901c12a257b",
   "metadata": {},
   "outputs": [],
   "source": [
    "import pandas as pd\n",
    "import sqlite3"
   ]
  },
  {
   "cell_type": "markdown",
   "id": "7f35af41-dcd3-4e4b-bdd2-4af15cedf819",
   "metadata": {},
   "source": [
    "# Read final dataframe"
   ]
  },
  {
   "cell_type": "code",
   "execution_count": null,
   "id": "54c6760e-c4f7-4bcc-bc1a-3d581def1639",
   "metadata": {},
   "outputs": [],
   "source": [
    "df = pd.read_pickle('./df_pm_oa_preprocessed.pkl')"
   ]
  },
  {
   "cell_type": "markdown",
   "id": "73c0056a-90c9-438a-a60b-ec23d496195f",
   "metadata": {},
   "source": [
    "# Make SQL DB"
   ]
  },
  {
   "cell_type": "code",
   "execution_count": null,
   "id": "0a9be062-f98a-4308-95a7-5238ae0015b0",
   "metadata": {},
   "outputs": [],
   "source": [
    "# Convert list-type columns to strings\n",
    "for col in df.columns:\n",
    "    if df[col].apply(lambda x: isinstance(x, list)).any():\n",
    "        df[col] = df[col].apply(lambda x: str(x) if isinstance(x, list) else x)"
   ]
  },
  {
   "cell_type": "code",
   "execution_count": null,
   "id": "a941d83e-cc69-4f63-8a01-a4b46f4a9fc5",
   "metadata": {},
   "outputs": [],
   "source": [
    "conn = sqlite3.connect(\"data.db\")\n",
    "\n",
    "df.to_sql(\"publications\", conn, if_exists=\"replace\", index=False)\n",
    "\n",
    "conn.close()"
   ]
  },
  {
   "cell_type": "markdown",
   "id": "a267643a-da90-4693-8750-d33dbe2526e7",
   "metadata": {},
   "source": [
    "# Optimize data types in DB and save"
   ]
  },
  {
   "cell_type": "code",
   "execution_count": null,
   "id": "48c55e26-ca6c-47ac-ba48-5e1552601282",
   "metadata": {},
   "outputs": [],
   "source": [
    "DB_FILE = \"data.db\"\n",
    "\n",
    "conn = sqlite3.connect(DB_FILE)\n",
    "cursor = conn.cursor()\n",
    "\n",
    "cursor.execute(\"\"\"\n",
    "CREATE TABLE IF NOT EXISTS publications_optimized (\n",
    "    pmid INTEGER PRIMARY KEY,\n",
    "    year_pubmed INTEGER,\n",
    "    journal_title TEXT,\n",
    "    title_pubmed TEXT,\n",
    "    cited_by_count SMALLINT,\n",
    "    countries TEXT,\n",
    "    authors_number SMALLINT,\n",
    "    is_open_access BOOLEAN,\n",
    "    majority_country TEXT,\n",
    "    cit_per_year FLOAT(4),\n",
    "    n_references SMALLINT\n",
    ");\n",
    "\"\"\")\n",
    "\n",
    "cursor.execute(\"\"\"\n",
    "INSERT INTO publications_optimized\n",
    "SELECT * FROM publications;\n",
    "\"\"\")\n",
    "\n",
    "cursor.execute(\"CREATE INDEX IF NOT EXISTS idx_year_pubmed ON publications_optimized(year_pubmed);\")\n",
    "cursor.execute(\"CREATE INDEX IF NOT EXISTS idx_pmid ON publications_optimized(pmid);\")\n",
    "\n",
    "cursor.execute(\"DROP TABLE IF EXISTS publications;\")\n",
    "cursor.execute(\"ALTER TABLE publications_optimized RENAME TO publications;\")\n",
    "\n",
    "conn.commit()  \n",
    "\n",
    "cursor.execute(\"VACUUM;\")\n",
    "\n",
    "conn.close()"
   ]
  }
 ],
 "metadata": {
  "kernelspec": {
   "display_name": "Python 3 (ipykernel)",
   "language": "python",
   "name": "python3"
  },
  "language_info": {
   "codemirror_mode": {
    "name": "ipython",
    "version": 3
   },
   "file_extension": ".py",
   "mimetype": "text/x-python",
   "name": "python",
   "nbconvert_exporter": "python",
   "pygments_lexer": "ipython3",
   "version": "3.12.2"
  },
  "widgets": {
   "application/vnd.jupyter.widget-state+json": {
    "state": {},
    "version_major": 2,
    "version_minor": 0
   }
  }
 },
 "nbformat": 4,
 "nbformat_minor": 5
}
