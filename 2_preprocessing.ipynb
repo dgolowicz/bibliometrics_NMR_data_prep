{
 "cells": [
  {
   "cell_type": "code",
   "execution_count": null,
   "id": "82f52476-bc42-467d-bce3-6b45a1e11d72",
   "metadata": {},
   "outputs": [],
   "source": [
    "import pandas as pd\n",
    "import matplotlib.pyplot as plt\n",
    "import itertools"
   ]
  },
  {
   "cell_type": "code",
   "execution_count": null,
   "id": "5f1595e5-c3ea-4e7b-ac68-676633756cba",
   "metadata": {},
   "outputs": [],
   "source": [
    "df = pd.read_pickle('./df_pubmed_openalex_combined.pkl')"
   ]
  },
  {
   "cell_type": "code",
   "execution_count": null,
   "id": "fd0b3a64-0375-469c-830a-84c2ae331048",
   "metadata": {},
   "outputs": [],
   "source": [
    "df.columns"
   ]
  },
  {
   "cell_type": "markdown",
   "id": "caedf71c-8fab-4e1d-b2d8-2aebc96dcadd",
   "metadata": {},
   "source": [
    "# Data cleansing"
   ]
  },
  {
   "cell_type": "markdown",
   "id": "d5ca967d-2ff3-4567-a197-1f145c275707",
   "metadata": {},
   "source": [
    "### Check and drop duplicates"
   ]
  },
  {
   "cell_type": "code",
   "execution_count": null,
   "id": "91165e11-5aed-4905-bbe6-0ff229273329",
   "metadata": {},
   "outputs": [],
   "source": [
    "print('All records: {}'.format(df.shape[0]))\n",
    "df.drop_duplicates(subset=['pmid'], inplace=True)\n",
    "print('After removing duplicates: {}'.format(df.shape[0]))"
   ]
  },
  {
   "cell_type": "markdown",
   "id": "9b553d02-70af-423b-9956-98fac8a37f4c",
   "metadata": {},
   "source": [
    "### Extra filter for years 2000-2024 (wrong years could be included during fetching)"
   ]
  },
  {
   "cell_type": "code",
   "execution_count": null,
   "id": "5d06b56d-05a9-4b30-b378-1c76fd5bcbda",
   "metadata": {},
   "outputs": [],
   "source": [
    "print('Before \"year\" filter: {}'.format(df.shape[0]))\n",
    "df = df.loc[(df.year_pubmed >=2000) & (df.year_pubmed <= 2024)].reset_index(drop=True)\n",
    "print('After \"year\" filter: {}'.format(df.shape[0]))"
   ]
  },
  {
   "cell_type": "markdown",
   "id": "28b24f6c-f48a-4376-9178-ecab0edc1067",
   "metadata": {},
   "source": [
    "# Transformations"
   ]
  },
  {
   "cell_type": "markdown",
   "id": "d3d1be2e-d10b-434c-a9aa-6c704f9360f0",
   "metadata": {},
   "source": [
    "### Transofrm selected columns"
   ]
  },
  {
   "cell_type": "code",
   "execution_count": null,
   "id": "f7c68e82-15a7-4cb9-a2f0-29cd65efebfc",
   "metadata": {},
   "outputs": [],
   "source": [
    "def author_country(x):\n",
    "    y = [x[i]['countries'] for i in range(len(x))]\n",
    "    return y"
   ]
  },
  {
   "cell_type": "markdown",
   "id": "33dc7f1d-a222-4662-9c3f-f1e3bde7c0a0",
   "metadata": {},
   "source": [
    "### Create column with countries of all authors"
   ]
  },
  {
   "cell_type": "code",
   "execution_count": null,
   "id": "2cd430ff-563d-4b88-9605-c731f0addbe5",
   "metadata": {},
   "outputs": [],
   "source": [
    "df['countries'] = df['authorships'].apply(lambda x: author_country(x))"
   ]
  },
  {
   "cell_type": "markdown",
   "id": "4dd36f48-90f2-471a-93f8-10090e6cc531",
   "metadata": {},
   "source": [
    "### Create columns with Last/first author country "
   ]
  },
  {
   "cell_type": "code",
   "execution_count": null,
   "id": "c0040845-42e4-4af4-89ad-162ea33241d6",
   "metadata": {},
   "outputs": [],
   "source": [
    "df['last_author_country'] = df['countries'].apply(lambda x: x[-1] if len(x)>0 else None)\n",
    "df['first_author_country'] = df['countries'].apply(lambda x: x[0] if len(x)>0 else None)"
   ]
  },
  {
   "cell_type": "markdown",
   "id": "ec92537a-7624-4861-b56f-fa3aa0b81863",
   "metadata": {},
   "source": [
    "### Extra cleaning: Drop countries without last or first author country"
   ]
  },
  {
   "cell_type": "code",
   "execution_count": null,
   "id": "f2f22ceb-5ac1-4f2f-8b35-91d781c651f6",
   "metadata": {},
   "outputs": [],
   "source": [
    "print('numer of rows to drop: {}'.format(sum(((df.last_author_country.isnull()) | (df.first_author_country.isnull())))))\n",
    "df = df.dropna(subset=['last_author_country','first_author_country'])\n",
    "print('Final dataframe shape: {}'.format(df.shape))"
   ]
  },
  {
   "cell_type": "markdown",
   "id": "5d33aa24-dc1a-4223-ba4e-540260b2aa00",
   "metadata": {},
   "source": [
    "### Create column with Number of authors"
   ]
  },
  {
   "cell_type": "code",
   "execution_count": null,
   "id": "b241c9f7-1861-4e0c-a165-2f7aabbf1edb",
   "metadata": {},
   "outputs": [],
   "source": [
    "df['authors_number'] = df['authorships'].apply(lambda x: len(x))"
   ]
  },
  {
   "cell_type": "markdown",
   "id": "25d5c34f-2696-498e-b1cb-238345bd0452",
   "metadata": {},
   "source": [
    "### Create column with open-access information"
   ]
  },
  {
   "cell_type": "code",
   "execution_count": null,
   "id": "684999d9-c59a-499a-affb-7ef76b5a496e",
   "metadata": {},
   "outputs": [],
   "source": [
    "df['is_open_access'] = df['open_access'].apply(lambda x: int(x['is_oa']))"
   ]
  },
  {
   "cell_type": "markdown",
   "id": "c85a72fa-686e-4b87-b53f-08abb539d1b4",
   "metadata": {},
   "source": [
    "### Assign only one (majority) country for article"
   ]
  },
  {
   "cell_type": "code",
   "execution_count": null,
   "id": "c910913a-615a-454d-b7c1-2142a4659ae1",
   "metadata": {},
   "outputs": [],
   "source": [
    "def majority_country(x):\n",
    "    \n",
    "    ctrs = list(itertools.chain.from_iterable(x['countries'])) #all countires (incl. multiple affiliations)\n",
    "    lst_ctr = x['last_author_country'] #last author country\n",
    "    fst_ctr = x['first_author_country'] #first author country\n",
    "\n",
    "    ctrs = {i:ctrs.count(i) for i in set(ctrs)} # countires counted\n",
    "\n",
    "    majority_ctrs = [i for i in ctrs.keys() if ctrs[i] == max(ctrs.values())] # most frequent countries\n",
    "    incl_lst_ath = [i for i,x in enumerate(lst_ctr) if x in majority_ctrs] # index of most frequent country in the countires assigned to last author (if exist)\n",
    "    incl_fst_ath = [i for i,x in enumerate(fst_ctr) if x in majority_ctrs] # index of most frequent country in the countires assigned to first author (if exist)\n",
    "\n",
    "    # rule 1\n",
    "    if len(majority_ctrs) == 1:\n",
    "        y = majority_ctrs[0]\n",
    "        return y\n",
    "    # rule 2\n",
    "    elif len(incl_lst_ath) == 1:\n",
    "        y = lst_ctr[incl_lst_ath[0]]\n",
    "        return y\n",
    "    # rule 3\n",
    "    elif len(incl_fst_ath) == 1:\n",
    "        y = fst_ctr[incl_fst_ath[0]]\n",
    "        return y\n",
    "    else:\n",
    "        return 'Multinational'"
   ]
  },
  {
   "cell_type": "code",
   "execution_count": null,
   "id": "dd6b7b0d-d879-462d-a7b6-beaaf50b3371",
   "metadata": {},
   "outputs": [],
   "source": [
    "df['majority_country'] = df.apply(lambda x: majority_country(x), axis=1)"
   ]
  },
  {
   "cell_type": "markdown",
   "id": "356716d0-bd9e-4de2-a2db-b38c3327bdbe",
   "metadata": {},
   "source": [
    "### Create column with annual citation rate for article"
   ]
  },
  {
   "cell_type": "code",
   "execution_count": null,
   "id": "a8e2da0e-f599-4788-8965-4aaed6d2773d",
   "metadata": {},
   "outputs": [],
   "source": [
    "def calc_cit_factor(row):\n",
    "    \n",
    "    pub_year = row['year_pubmed']\n",
    "    cit_total = row['cited_by_count']\n",
    "    if pub_year == 2025:\n",
    "        return None\n",
    "    else:\n",
    "        return cit_total/(2025 -pub_year)\n",
    "    \n",
    "df['cit_per_year'] = df.apply(calc_cit_factor, axis=1)"
   ]
  },
  {
   "cell_type": "markdown",
   "id": "1d69e79e-8078-4e78-bf36-55de01f4efe3",
   "metadata": {},
   "source": [
    "### Create column with number of references"
   ]
  },
  {
   "cell_type": "code",
   "execution_count": null,
   "id": "5fcb00d7-33d4-4205-8b35-0825ee2de86f",
   "metadata": {},
   "outputs": [],
   "source": [
    "df['n_references'] = df.referenced_works.apply(lambda x: len(x))"
   ]
  },
  {
   "cell_type": "code",
   "execution_count": null,
   "id": "301913a8-d56f-4ea9-89d6-ffacd2020b22",
   "metadata": {},
   "outputs": [],
   "source": [
    "df.columns"
   ]
  },
  {
   "cell_type": "markdown",
   "id": "946cbbf4-335a-4ea8-b83e-6ec99bae39f7",
   "metadata": {},
   "source": [
    "# Remove excess columns (not needed anymore after transformations)"
   ]
  },
  {
   "cell_type": "code",
   "execution_count": null,
   "id": "3e95194b-992b-4581-a460-2bf5ef19f98a",
   "metadata": {},
   "outputs": [],
   "source": [
    "df.drop(columns=['ids','authorships','open_access','referenced_works',\n",
    "                 'last_author_country','first_author_country'], inplace=True)"
   ]
  },
  {
   "cell_type": "code",
   "execution_count": null,
   "id": "f04927d7-fb47-4f9d-865e-bf260129387b",
   "metadata": {},
   "outputs": [],
   "source": [
    "df.columns"
   ]
  },
  {
   "cell_type": "markdown",
   "id": "371ffc54-aaae-480d-8958-162d2f91b609",
   "metadata": {},
   "source": [
    "# Save final dataframe"
   ]
  },
  {
   "cell_type": "code",
   "execution_count": null,
   "id": "93b033d7-2489-4910-9477-6749c49a594b",
   "metadata": {},
   "outputs": [],
   "source": [
    "df.to_pickle('./df_pm_oa_preprocessed.pkl')"
   ]
  },
  {
   "cell_type": "code",
   "execution_count": null,
   "id": "9afa7de1-4518-4f95-977e-c877dfe526e2",
   "metadata": {},
   "outputs": [],
   "source": [
    "df.head()"
   ]
  }
 ],
 "metadata": {
  "kernelspec": {
   "display_name": "Python 3 (ipykernel)",
   "language": "python",
   "name": "python3"
  },
  "language_info": {
   "codemirror_mode": {
    "name": "ipython",
    "version": 3
   },
   "file_extension": ".py",
   "mimetype": "text/x-python",
   "name": "python",
   "nbconvert_exporter": "python",
   "pygments_lexer": "ipython3",
   "version": "3.12.2"
  },
  "widgets": {
   "application/vnd.jupyter.widget-state+json": {
    "state": {},
    "version_major": 2,
    "version_minor": 0
   }
  }
 },
 "nbformat": 4,
 "nbformat_minor": 5
}
