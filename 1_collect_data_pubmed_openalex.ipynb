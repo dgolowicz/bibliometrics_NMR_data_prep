{
 "cells": [
  {
   "cell_type": "markdown",
   "id": "fb8dc97c-fe3b-42d5-a846-26bd24a862a9",
   "metadata": {},
   "source": [
    "### Set NCBI API key (recommended)"
   ]
  },
  {
   "cell_type": "code",
   "execution_count": null,
   "id": "c09fc092-bd04-4021-8d9d-3671c2f3ca30",
   "metadata": {},
   "outputs": [],
   "source": [
    "!export NCBI_API_KEY=\" \" # enter your free API key (download from https://account.ncbi.nlm.nih.gov/settings/)"
   ]
  },
  {
   "cell_type": "markdown",
   "id": "52368edf-53c4-41a2-8ea8-c2ef9961e188",
   "metadata": {},
   "source": [
    "### Email address for Entrez"
   ]
  },
  {
   "cell_type": "code",
   "execution_count": null,
   "id": "5f027ad7-b809-4a82-9fd8-8d6617e7cd8d",
   "metadata": {},
   "outputs": [],
   "source": [
    "Entrez.email = ' ' # enter email for entrez"
   ]
  },
  {
   "cell_type": "markdown",
   "id": "5ce1fb34-e34c-401c-ac4d-3c929f8a7b12",
   "metadata": {},
   "source": [
    "### Imports"
   ]
  },
  {
   "cell_type": "code",
   "execution_count": null,
   "id": "82f52476-bc42-467d-bce3-6b45a1e11d72",
   "metadata": {},
   "outputs": [],
   "source": [
    "import pandas as pd\n",
    "import metapub\n",
    "import matplotlib.pyplot as plt\n",
    "from metapub import PubMedFetcher\n",
    "import time\n",
    "import re\n",
    "from Bio import Entrez\n",
    "import pyalex\n",
    "from pyalex import Works, Topics, config"
   ]
  },
  {
   "cell_type": "markdown",
   "id": "ac92ddbe-ac2f-4680-959f-36c5b55696e8",
   "metadata": {},
   "source": [
    "# PubMed search query:\n",
    "- \"NMR\" OR \"Nuclear Magnetic Resonance\" OR \"N.M.R\" in the title or abstract text\n",
    "- no preprints\n",
    "- english language\n",
    "- published between 2020/01/01-2024/12/31"
   ]
  },
  {
   "cell_type": "markdown",
   "id": "6a430740-ef08-42c7-8992-36f6e753eafd",
   "metadata": {},
   "source": [
    "### Count pubmed articles matching query"
   ]
  },
  {
   "cell_type": "code",
   "execution_count": null,
   "id": "ae9ea6f4-e163-45b5-a7bf-fa19fb8d3278",
   "metadata": {},
   "outputs": [],
   "source": [
    "!esearch -db pubmed -query '(\"NMR\"[Title/Abstract] OR \"nuclear magnetic resonance\"[Title/Abstract] OR \"N.M.R\"[Title/Abstract]) AND ((\"all\"[Filter] NOT \"preprint\"[Publication Type]) AND \"english\"[Language] AND 2000/01/01:2024/12/31[Date - Publication])' | xtract -pattern ENTREZ_DIRECT -element Count"
   ]
  },
  {
   "cell_type": "markdown",
   "id": "38d89f5b-5c2a-43d2-b745-0420039c67b4",
   "metadata": {},
   "source": [
    "### Save pmids of all matched entries to txt file (may take few minutes)"
   ]
  },
  {
   "cell_type": "code",
   "execution_count": null,
   "id": "a8855def-326d-4b59-8306-b4494162c711",
   "metadata": {},
   "outputs": [],
   "source": [
    "!esearch -db pubmed -query '(\"NMR\"[Title/Abstract] OR \"nuclear magnetic resonance\"[Title/Abstract] OR \"N.M.R\"[Title/Abstract]) AND ((\"all\"[Filter] NOT \"preprint\"[Publication Type]) AND \"english\"[Language] AND 2000/01/01:2024/12/31[Date - Publication])' | efetch -format uid > pmids.txt"
   ]
  },
  {
   "cell_type": "code",
   "execution_count": null,
   "id": "aab4d8cf-66ff-42a8-b47f-5037ce835f95",
   "metadata": {},
   "outputs": [],
   "source": [
    "#with open('./pmids.txt', 'r') as file:\n",
    "with open('./pmids.txt', 'r') as file:\n",
    "    pmids=file.read().splitlines()\n",
    "    \n",
    "print('There are {} pmids'.format(len(pmids)))"
   ]
  },
  {
   "cell_type": "code",
   "execution_count": null,
   "id": "1abb9d6f-0956-4c88-b763-6127f61ca79e",
   "metadata": {},
   "outputs": [],
   "source": [
    "def fetch_pmid_records(pmids, batch_size=200, delay=0.5):\n",
    "    records = []\n",
    "    \n",
    "    for start in range(0, len(pmids), batch_size):\n",
    "        print(start)\n",
    "        end = start + batch_size\n",
    "        batch_pmids = pmids[start:end]\n",
    "        try:\n",
    "            handle = Entrez.efetch(db=\"pubmed\", id=batch_pmids, retmode=\"xml\")\n",
    "            data = Entrez.read(handle)\n",
    "            handle.close()\n",
    "            for article in data['PubmedArticle']:\n",
    "                pmid = article['MedlineCitation']['PMID']\n",
    "                records.append({'pmid': str(pmid),\n",
    "                              'year_pubmed': int(article['MedlineCitation']['Article']['Journal']['JournalIssue']['PubDate']['Year']),\n",
    "                              'journal_title': article['MedlineCitation']['Article']['Journal']['Title'],\n",
    "                              'title_pubmed': article['MedlineCitation']['Article']['ArticleTitle']})\n",
    "            time.sleep(delay)  # Respect NCBI's rate limits\n",
    "        except:\n",
    "            pass\n",
    "    return records"
   ]
  },
  {
   "cell_type": "markdown",
   "id": "1e7a7667-815f-43aa-a061-afa84035edba",
   "metadata": {},
   "source": [
    "### Line below executes PubMed batched query for all stored PMIDS (around 200k records), may take 1-2h to finish."
   ]
  },
  {
   "cell_type": "code",
   "execution_count": null,
   "id": "a3cb6b15-597f-4619-96fc-c15d1425f034",
   "metadata": {},
   "outputs": [],
   "source": [
    "pubmed_data = fetch_pmid_records(pmids)"
   ]
  },
  {
   "cell_type": "markdown",
   "id": "ae403ac8-d310-4525-8440-6bccf68aea71",
   "metadata": {},
   "source": [
    "### Convert pubmed data to dataframe"
   ]
  },
  {
   "cell_type": "code",
   "execution_count": null,
   "id": "d555b11a-e9e2-4576-93e5-c459750ac80e",
   "metadata": {},
   "outputs": [],
   "source": [
    "pubmed_df = pd.DataFrame(pubmed_data)"
   ]
  },
  {
   "cell_type": "code",
   "execution_count": null,
   "id": "c5724094-4767-46c1-93ca-28073b0fe7cb",
   "metadata": {},
   "outputs": [],
   "source": [
    "pubmed_df.head()"
   ]
  },
  {
   "cell_type": "markdown",
   "id": "ebd4dd69-b507-43b7-8889-5224d9bf35b1",
   "metadata": {},
   "source": [
    "### Write fetched PubMed data to disk just in case (checkpoint)"
   ]
  },
  {
   "cell_type": "code",
   "execution_count": null,
   "id": "0d0411ff-805a-4725-a1a8-af0b83977469",
   "metadata": {},
   "outputs": [],
   "source": [
    "pubmed_df.to_pickle('df_pubmed.pkl')"
   ]
  },
  {
   "cell_type": "markdown",
   "id": "559d6654-972b-4078-aff6-26ba1f81b14f",
   "metadata": {},
   "source": [
    "# Update PubMed dataframe with OpenAlex data"
   ]
  },
  {
   "cell_type": "code",
   "execution_count": null,
   "id": "099b25de-fb6d-4d92-b807-92a26c5bc232",
   "metadata": {},
   "outputs": [],
   "source": [
    "pubmed_df = pd.read_pickle('./df_pubmed.pkl')"
   ]
  },
  {
   "cell_type": "code",
   "execution_count": null,
   "id": "ff3f115c-54fd-43dc-8b4b-73680c18a04f",
   "metadata": {},
   "outputs": [],
   "source": [
    "pubmed_df.shape"
   ]
  },
  {
   "cell_type": "code",
   "execution_count": null,
   "id": "650d14ec-67da-42ea-9e00-24ef6bf73bde",
   "metadata": {},
   "outputs": [],
   "source": [
    "pubmed_df.columns"
   ]
  },
  {
   "cell_type": "markdown",
   "id": "a77f9e7b-c100-47cd-bacf-cdd988879dc9",
   "metadata": {},
   "source": [
    "### PyAlex config"
   ]
  },
  {
   "cell_type": "code",
   "execution_count": null,
   "id": "a0dc198e-b1f0-439c-afdc-1196082fbfa5",
   "metadata": {},
   "outputs": [],
   "source": [
    "config.max_retries = 0\n",
    "config.retry_backoff_factor = 0.1\n",
    "config.retry_http_codes = [429, 500, 503]"
   ]
  },
  {
   "cell_type": "code",
   "execution_count": null,
   "id": "ba8acc4e-5540-47d5-9305-2ffb1c824542",
   "metadata": {},
   "outputs": [],
   "source": [
    "def fetch_openalex(pmids, batch_size=100, delay=0.25):\n",
    "    all_data = []\n",
    "    \n",
    "    for start in range(0, len(pmids), batch_size):\n",
    "        if (start // batch_size)%100==0:\n",
    "            print(start // batch_size)\n",
    "        end = start + batch_size\n",
    "        batch_pmids = pmids[start:end]\n",
    "        pmid_filter = {\"ids\": {\"pmid\": \"|\".join(batch_pmids)}}\n",
    "        try:\n",
    "            pages = Works().filter(**pmid_filter)\\\n",
    "                   .select(['ids', 'cited_by_count', 'authorships', 'open_access', 'referenced_works']).paginate(per_page=100, n_max=None)\n",
    "            for page in pages:\n",
    "                all_data.extend(page)\n",
    "\n",
    "            time.sleep(delay)  # to not overload openalex\n",
    "        except:\n",
    "            pass\n",
    "    return all_data"
   ]
  },
  {
   "cell_type": "markdown",
   "id": "6b117684-5452-4af1-af7d-fae807cada2e",
   "metadata": {},
   "source": [
    "### Line below executes OpenAlex batched query for all stored PMIDS (around 200k records), may take 1-2h to finish."
   ]
  },
  {
   "cell_type": "code",
   "execution_count": null,
   "id": "9554ae44-1ff0-4de0-bbef-3851fa4892c0",
   "metadata": {},
   "outputs": [],
   "source": [
    "open_alex_data = fetch_openalex(list(pubmed_df.pmid.values))\n",
    "df_openalex = pd.DataFrame(open_alex_data)\n",
    "df_openalex.to_pickle('df_openalex_pmids.pkl') # save complementary open alex data just in case"
   ]
  },
  {
   "cell_type": "code",
   "execution_count": null,
   "id": "bf9134d6-a9b3-4c65-8cab-566365ab720d",
   "metadata": {},
   "outputs": [],
   "source": [
    "df_openalex.head()"
   ]
  },
  {
   "cell_type": "markdown",
   "id": "7608ddbe-226d-45ce-968d-d8c2715aa96c",
   "metadata": {},
   "source": [
    "# Join pubmed and openalex dataframes based on PMID"
   ]
  },
  {
   "cell_type": "code",
   "execution_count": null,
   "id": "2e6864a2-039a-4d2b-9156-813b2c4594c7",
   "metadata": {},
   "outputs": [],
   "source": [
    "df_pubmed = pd.read_pickle('./df_pubmed.pkl')\n",
    "df_openalex = pd.read_pickle('./df_openalex_pmids.pkl')"
   ]
  },
  {
   "cell_type": "code",
   "execution_count": null,
   "id": "d7bfcdc0-f395-4720-b17e-82d471f2ea29",
   "metadata": {},
   "outputs": [],
   "source": [
    "print('Pubmed dataframe shape: {}'.format(df_pubmed.shape))\n",
    "print('Pubmed dataframe columns: {}'.format(list(df_pubmed.columns)))\n",
    "print('OpenAlex dataframe shape: {}'.format(df_openalex.shape))\n",
    "print('OpenAlex dataframe columns: {}'.format(list(df_openalex.columns)))"
   ]
  },
  {
   "cell_type": "markdown",
   "id": "e5c27a5f-97f1-494d-9024-9905a5d4f57e",
   "metadata": {},
   "source": [
    "### Create pmid column in openalex dataframe"
   ]
  },
  {
   "cell_type": "code",
   "execution_count": null,
   "id": "08a8c696-20bf-4c85-aa69-59145f76d49a",
   "metadata": {},
   "outputs": [],
   "source": [
    "def extr_pmid(ids):\n",
    "    pmid_pattern = r'/(\\d+)/?$'\n",
    "    try:\n",
    "        match = re.search(pmid_pattern, ids['pmid'])\n",
    "        if match:\n",
    "            pmid = match.group(1)\n",
    "            return pmid\n",
    "        else:\n",
    "            return None\n",
    "    except:\n",
    "        return None"
   ]
  },
  {
   "cell_type": "code",
   "execution_count": null,
   "id": "cd199a26-7f51-475e-9f81-cad3153e0c0c",
   "metadata": {},
   "outputs": [],
   "source": [
    "df_openalex['pmid'] = df_openalex['ids'].apply(lambda x: extr_pmid(x))"
   ]
  },
  {
   "cell_type": "markdown",
   "id": "cb880963-b39f-4e79-84fd-6e49339fcafb",
   "metadata": {},
   "source": [
    "### Join dataframes"
   ]
  },
  {
   "cell_type": "code",
   "execution_count": null,
   "id": "177bb89e-af9e-44d2-bade-7b92e23e0b97",
   "metadata": {},
   "outputs": [],
   "source": [
    "df_pubmed.set_index('pmid', inplace=True)\n",
    "df_openalex.set_index('pmid', inplace=True)"
   ]
  },
  {
   "cell_type": "code",
   "execution_count": null,
   "id": "4856edc7-e3d6-4305-87b6-f68e93577e88",
   "metadata": {},
   "outputs": [],
   "source": [
    "df = df_pubmed.join(df_openalex, on='pmid')"
   ]
  },
  {
   "cell_type": "code",
   "execution_count": null,
   "id": "d61883aa-078a-49cb-a5aa-695bfc017510",
   "metadata": {},
   "outputs": [],
   "source": [
    "df.head()"
   ]
  },
  {
   "cell_type": "code",
   "execution_count": null,
   "id": "f0a98307-5e06-47ef-af81-ebab6371d8da",
   "metadata": {},
   "outputs": [],
   "source": [
    "print('Joined dataframe shape: {}'.format(df.shape))\n",
    "print('Joined dataframe columns: {}'.format(list(df.columns)))"
   ]
  },
  {
   "cell_type": "markdown",
   "id": "597aea6d-382f-40b0-ae51-38239c43db81",
   "metadata": {},
   "source": [
    "### Drop rows where openalex did not find complementary data"
   ]
  },
  {
   "cell_type": "code",
   "execution_count": null,
   "id": "f69e3751-4225-460a-b226-da7e53ea3e9b",
   "metadata": {},
   "outputs": [],
   "source": [
    "print('numer of rows to drop: {}'.format(sum(df.ids.isnull())))\n",
    "df = df.dropna(subset=['ids'])\n",
    "print('Final dataframe shape: {}'.format(df.shape))"
   ]
  },
  {
   "cell_type": "code",
   "execution_count": null,
   "id": "8c09c177-11ec-417d-9342-138bf87e9737",
   "metadata": {},
   "outputs": [],
   "source": [
    "df.reset_index(inplace=True)"
   ]
  },
  {
   "cell_type": "code",
   "execution_count": null,
   "id": "0604e953-1e54-4fa9-8d39-da275d6e3c1b",
   "metadata": {},
   "outputs": [],
   "source": [
    "df.head()"
   ]
  },
  {
   "cell_type": "markdown",
   "id": "757f8f0b-ab59-485d-a7ff-787931d7f2e0",
   "metadata": {},
   "source": [
    "# Save combined PubMed and OpenAlex data"
   ]
  },
  {
   "cell_type": "code",
   "execution_count": null,
   "id": "644f2268-6d34-412c-b38e-e4aeb2e9600d",
   "metadata": {},
   "outputs": [],
   "source": [
    "df.to_pickle('./df_pubmed_openalex_combined.pkl')"
   ]
  }
 ],
 "metadata": {
  "kernelspec": {
   "display_name": "Python 3 (ipykernel)",
   "language": "python",
   "name": "python3"
  },
  "language_info": {
   "codemirror_mode": {
    "name": "ipython",
    "version": 3
   },
   "file_extension": ".py",
   "mimetype": "text/x-python",
   "name": "python",
   "nbconvert_exporter": "python",
   "pygments_lexer": "ipython3",
   "version": "3.12.2"
  },
  "widgets": {
   "application/vnd.jupyter.widget-state+json": {
    "state": {},
    "version_major": 2,
    "version_minor": 0
   }
  }
 },
 "nbformat": 4,
 "nbformat_minor": 5
}
